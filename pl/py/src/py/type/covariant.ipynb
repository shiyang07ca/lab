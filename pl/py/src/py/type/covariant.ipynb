{
 "cells": [
  {
   "cell_type": "code",
   "execution_count": 4,
   "metadata": {},
   "outputs": [],
   "source": [
    "\"\"\"\n",
    "协变和逆变是类型系统中的概念，它们决定了在类型层次结构中，子类和父类的泛型如何相互作用。\n",
    "\n",
    "协变（Covariance）：协变意味着一个泛型类型可以接受其子类型。例如，List[Cat] 可以被认为是 List[Animal] 的子类型，如果 Cat 是 Animal 的子类的话。\n",
    "\n",
    "逆变（Contravariance）：逆变意味着一个泛型类型可以接受其父类型。即使 Cat 是 Animal 的子类，但在逆变情况下，List[Animal] 可以被认为是 List[Cat] 的子类型。\n",
    "\"\"\"\n",
    "\n",
    "# Python 的 TypeVar 支持指定泛型类型是协变还是逆变。\n",
    "\n",
    "#TypeVar 可以定义一个泛型类型变量，允许在类型检查期间将该变量绑定为特定的类型。它通常用于泛型函数、类或接口中。\n",
    "\n",
    "# 协变类型变量使用 covariant=True，表示它可以从子类转换为父类。\n",
    "from typing import TypeVar, Generic\n",
    "\n",
    "T_co = TypeVar('T_co', covariant=True)\n",
    "\n",
    "class Animal:\n",
    "    pass\n",
    "\n",
    "class Cat(Animal):\n",
    "    pass\n",
    "\n",
    "class Box(Generic[T_co]):\n",
    "    def __init__(self, item: T_co):\n",
    "        self.item = item\n",
    "\n",
    "# Box[Cat] 是 Box[Animal] 的子类型，因为 T_co 是协变的\n",
    "cat_box: Box[Cat] = Box(Cat())\n",
    "animal_box: Box[Animal] = cat_box  # 可以赋值，因为 T_co 是协变的\n",
    "\n",
    "# 在这个例子中，T_co 是协变的，因此 Box[Cat] 可以被视为 Box[Animal] 的子类型。由于 T_co 可以是 Cat 或者 Animal，所以类型系统允许我们将 Box[Cat] 赋值给 Box[Animal]。"
   ]
  },
  {
   "cell_type": "code",
   "execution_count": 6,
   "metadata": {},
   "outputs": [
    {
     "data": {
      "text/plain": [
       "\"\\n关键点总结\\n1. TypeVar：用于定义泛型类型变量。\\n   T = TypeVar('T')：表示 T 是一个泛型变量。\\n2. 协变（covariant=True）：\\n   允许子类型替换父类型。例如，List[Cat] 可以替换 List[Animal]。\\n   定义：T_co = TypeVar('T_co', covariant=True)。\\n3. 逆变（contravariant=True）：\\n   允许父类型替换子类型。例如，List[Animal] 可以替换 List[Cat]。\\n   定义：T_contra = TypeVar('T_contra', contravariant=True)。\\n\\n使用场景\\n  协变 通常用于返回类型，因为子类的实例通常可以替代父类的实例返回。\\n  逆变 通常用于参数类型，因为方法接受更通用的类型，可以传递子类对象。      \\n\\n\""
      ]
     },
     "execution_count": 6,
     "metadata": {},
     "output_type": "execute_result"
    }
   ],
   "source": [
    "# 逆变类型变量使用 contravariant=True，表示它可以从父类转换为子类。\n",
    "\n",
    "\n",
    "T_contra = TypeVar('T_contra', contravariant=True)\n",
    "\n",
    "class Animal:\n",
    "    pass\n",
    "\n",
    "class Cat(Animal):\n",
    "    pass\n",
    "\n",
    "class Trainer(Generic[T_contra]):\n",
    "    def __init__(self, animal: T_contra):\n",
    "        self.animal = animal\n",
    "\n",
    "# Trainer[Animal] 是 Trainer[Cat] 的子类型，因为 T_contra 是逆变的\n",
    "animal_trainer: Trainer[Animal] = Trainer(Animal())\n",
    "cat_trainer: Trainer[Cat] = animal_trainer  # 可以赋值，因为 T_contra 是逆变的\n",
    "\n",
    "# 在这个例子中，T_contra 是逆变的，因此 Trainer[Animal] 可以被视为 Trainer[Cat] 的子类型。因为 T_contra 可以接受更一般的类型（Animal），所以我们可以将 Trainer[Animal] 赋值给 Trainer[Cat]。\n",
    "\n",
    "\"\"\"\n",
    "关键点总结\n",
    "1. TypeVar：用于定义泛型类型变量。\n",
    "   T = TypeVar('T')：表示 T 是一个泛型变量。\n",
    "2. 协变（covariant=True）：\n",
    "   允许子类型替换父类型。例如，List[Cat] 可以替换 List[Animal]。\n",
    "   定义：T_co = TypeVar('T_co', covariant=True)。\n",
    "3. 逆变（contravariant=True）：\n",
    "   允许父类型替换子类型。例如，List[Animal] 可以替换 List[Cat]。\n",
    "   定义：T_contra = TypeVar('T_contra', contravariant=True)。\n",
    "\n",
    "使用场景\n",
    "  协变 通常用于返回类型，因为子类的实例通常可以替代父类的实例返回。\n",
    "  逆变 通常用于参数类型，因为方法接受更通用的类型，可以传递子类对象。      \n",
    "\n",
    "\"\"\"\n",
    "\n",
    "# 使用场景\n",
    "# 协变 通常用于返回类型，因为子类的实例通常可以替代父类的实例返回。\n",
    "# 逆变 通常用于参数类型，因为方法接受更通用的类型，可以传递子类对象。\n",
    "\n"
   ]
  }
 ],
 "metadata": {
  "kernelspec": {
   "display_name": ".venv",
   "language": "python",
   "name": "python3"
  },
  "language_info": {
   "codemirror_mode": {
    "name": "ipython",
    "version": 3
   },
   "file_extension": ".py",
   "mimetype": "text/x-python",
   "name": "python",
   "nbconvert_exporter": "python",
   "pygments_lexer": "ipython3",
   "version": "3.11.4"
  }
 },
 "nbformat": 4,
 "nbformat_minor": 2
}
